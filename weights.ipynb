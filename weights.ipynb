{
 "cells": [
  {
   "cell_type": "code",
   "execution_count": 1,
   "metadata": {},
   "outputs": [
    {
     "name": "stderr",
     "output_type": "stream",
     "text": [
      "2024-01-17 19:38:20.500493: E external/local_xla/xla/stream_executor/cuda/cuda_dnn.cc:9261] Unable to register cuDNN factory: Attempting to register factory for plugin cuDNN when one has already been registered\n",
      "2024-01-17 19:38:20.500528: E external/local_xla/xla/stream_executor/cuda/cuda_fft.cc:607] Unable to register cuFFT factory: Attempting to register factory for plugin cuFFT when one has already been registered\n",
      "2024-01-17 19:38:20.501681: E external/local_xla/xla/stream_executor/cuda/cuda_blas.cc:1515] Unable to register cuBLAS factory: Attempting to register factory for plugin cuBLAS when one has already been registered\n",
      "2024-01-17 19:38:20.507300: I tensorflow/core/platform/cpu_feature_guard.cc:182] This TensorFlow binary is optimized to use available CPU instructions in performance-critical operations.\n",
      "To enable the following instructions: AVX2 FMA, in other operations, rebuild TensorFlow with the appropriate compiler flags.\n",
      "2024-01-17 19:38:21.207623: W tensorflow/compiler/tf2tensorrt/utils/py_utils.cc:38] TF-TRT Warning: Could not find TensorRT\n"
     ]
    }
   ],
   "source": [
    "import numpy as np\n",
    "import tensorflow as tf\n",
    "from keras import Model, Input\n",
    "from keras.layers import Conv2D, Activation, MaxPool2D, Flatten, Dense, BatchNormalization\n",
    "BATCH=2"
   ]
  },
  {
   "cell_type": "code",
   "execution_count": 3,
   "metadata": {},
   "outputs": [],
   "source": [
    "class MyNet(Model):\n",
    "    def __init__(self, num_of_actions):\n",
    "        '''These are for the generalization of the function change2To3(new_net, old_net)'''\n",
    "        self.c3_1 = None\n",
    "        self.c2_1 = None\n",
    "        super(MyNet, self).__init__()\n",
    "        self.num_of_actions = num_of_actions\n",
    "        self.b1 = BatchNormalization(name='batch1')  # BN层\n",
    "        self.c1_1 = Conv2D(filters=32, kernel_size=(3, 3), padding='same', name='conv_1',\n",
    "                           kernel_initializer=tf.keras.initializers.TruncatedNormal(mean=0.0, stddev=0.01, seed=None),\n",
    "                           bias_initializer = tf.keras.initializers.Constant(value=0.01))  # 卷积层\n",
    "        self.b0 = BatchNormalization(name='batch0')  # BN层\n",
    "        self.a1_1 = Activation('relu', name='relu_1')  # 激活层\n",
    "        self.p1 = MaxPool2D(pool_size=(2, 2), strides=2, padding='same', name='padding_1')  # 池化层\n",
    "        #self.d1 = Dropout(0.2)  # dropout层\n",
    "\n",
    "        self.flatten = Flatten()\n",
    "        self.f1 = Dense(512, activation='relu', name='dense1',\n",
    "                           kernel_initializer=tf.keras.initializers.TruncatedNormal(mean=0.0, stddev=0.01, seed=None),\n",
    "                           bias_initializer = tf.keras.initializers.Constant(value=0.01))\n",
    "        self.f2 = Dense(num_of_actions, activation=None, name='dense2',\n",
    "                           kernel_initializer=tf.keras.initializers.TruncatedNormal(mean=0.0, stddev=0.01, seed=None),\n",
    "                           bias_initializer = tf.keras.initializers.Constant(value=0.01))\n",
    "\n",
    "    def call(self, x):\n",
    "        #print(x.shape)\n",
    "        x = self.b1(x)\n",
    "        x = self.c1_1(x)\n",
    "        #print(x.shape)\n",
    "        x = self.b0(x)\n",
    "        x = self.a1_1(x)\n",
    "        x = self.p1(x)\n",
    "\n",
    "        x = self.flatten(x)\n",
    "        x = self.f1(x)\n",
    "        y = self.f2(x)\n",
    "        return y\n",
    "\n",
    "\n",
    "class MyNet2(Model):\n",
    "    def __init__(self, num_of_actions):\n",
    "        '''These are for the generalization of the function change2To3(new_net, old_net)'''\n",
    "        self.c3_1 = None\n",
    "        super(MyNet2, self).__init__()\n",
    "        self.b2 = BatchNormalization(name='batch2')  # BN层\n",
    "        self.num_of_actions = num_of_actions\n",
    "        self.conv2_num_of_filters = 32\n",
    "        self.c2_1 = Conv2D(filters=self.conv2_num_of_filters, kernel_size=(3, 3), padding='same', name='conv_2',\n",
    "                           kernel_initializer=tf.keras.initializers.TruncatedNormal(mean=0.0, stddev=0.01, seed=None),\n",
    "                           bias_initializer = tf.keras.initializers.Constant(value=0.01))  # 卷积层\n",
    "        self.b1 = BatchNormalization(name='batch1')  # BN层\n",
    "        self.a2_1 = Activation('relu', name='relu_2')  # 激活层\n",
    "\n",
    "        self.p2 = MaxPool2D(pool_size=(2, 2), strides=2, padding='same', name='padding_2')  # 池化层\n",
    "        self.c1_1 = Conv2D(filters=32, kernel_size=(3, 3), padding='same', name='conv_1',\n",
    "                           kernel_initializer=tf.keras.initializers.TruncatedNormal(mean=0.0, stddev=0.01, seed=None),\n",
    "                           bias_initializer = tf.keras.initializers.Constant(value=0.01))  # 卷积层\n",
    "        self.b0 = BatchNormalization(name='batch0')  # BN层\n",
    "        self.a1_1 = Activation('relu', name='relu_1')  # 激活层\n",
    "        self.p1 = MaxPool2D(pool_size=(2, 2), strides=2, padding='same', name='padding_1')  # 池化层\n",
    "        #self.d1 = Dropout(0.2)  # dropout层\n",
    "\n",
    "        self.flatten = Flatten()\n",
    "        self.f1 = Dense(512, activation='relu', name='dense1',\n",
    "                           kernel_initializer=tf.keras.initializers.TruncatedNormal(mean=0.0, stddev=0.01, seed=None),\n",
    "                           bias_initializer = tf.keras.initializers.Constant(value=0.01))\n",
    "        self.f2 = Dense(num_of_actions, activation=None, name='dense2',\n",
    "                           kernel_initializer=tf.keras.initializers.TruncatedNormal(mean=0.0, stddev=0.01, seed=None),\n",
    "                           bias_initializer = tf.keras.initializers.Constant(value=0.01))\n",
    "    def call(self, x):\n",
    "        x = self.b2(x)\n",
    "        x = self.c2_1(x)\n",
    "        x = self.b1(x)\n",
    "        x = self.a2_1(x)\n",
    "        x = self.p2(x)\n",
    "        x = self.c1_1(x)\n",
    "        x = self.b0(x)\n",
    "        x = self.a1_1(x)\n",
    "        x = self.p1(x)\n",
    "\n",
    "        x = self.flatten(x)\n",
    "        x = self.f1(x)\n",
    "        y = self.f2(x)\n",
    "        return y\n",
    "    def load_stage1(self, stage1_net):\n",
    "        new_kernel = custom_kernel_stage2(stage1_net, self.conv2_num_of_filters // 4)\n",
    "        self.c1_1.set_weights([new_kernel, stage1_net.c1_1.get_weights()[1]])\n",
    "        self.f1.set_weights([stage1_net.f1.get_weights()[0], stage1_net.f1.get_weights()[1]])\n",
    "        self.f2.set_weights(stage1_net.f2.get_weights())"
   ]
  },
  {
   "cell_type": "code",
   "execution_count": 4,
   "metadata": {},
   "outputs": [
    {
     "name": "stdout",
     "output_type": "stream",
     "text": [
      "Model: \"my_net\"\n",
      "_________________________________________________________________\n",
      " Layer (type)                Output Shape              Param #   \n",
      "=================================================================\n",
      " batch1 (BatchNormalization  (None, 40, 40, 4)         16        \n",
      " )                                                               \n",
      "                                                                 \n",
      " conv_1 (Conv2D)             (None, 40, 40, 32)        1184      \n",
      "                                                                 \n",
      " batch0 (BatchNormalization  (None, 40, 40, 32)        128       \n",
      " )                                                               \n",
      "                                                                 \n",
      " relu_1 (Activation)         (None, 40, 40, 32)        0         \n",
      "                                                                 \n",
      " padding_1 (MaxPooling2D)    (None, 20, 20, 32)        0         \n",
      "                                                                 \n",
      " flatten (Flatten)           (None, 12800)             0         \n",
      "                                                                 \n",
      " dense1 (Dense)              (None, 512)               6554112   \n",
      "                                                                 \n",
      " dense2 (Dense)              (None, 2)                 1026      \n",
      "                                                                 \n",
      "=================================================================\n",
      "Total params: 6556466 (25.01 MB)\n",
      "Trainable params: 6556394 (25.01 MB)\n",
      "Non-trainable params: 72 (288.00 Byte)\n",
      "_________________________________________________________________\n"
     ]
    },
    {
     "name": "stderr",
     "output_type": "stream",
     "text": [
      "2024-01-17 19:38:34.603194: I external/local_xla/xla/stream_executor/cuda/cuda_executor.cc:901] successful NUMA node read from SysFS had negative value (-1), but there must be at least one NUMA node, so returning NUMA node zero. See more at https://github.com/torvalds/linux/blob/v6.0/Documentation/ABI/testing/sysfs-bus-pci#L344-L355\n",
      "2024-01-17 19:38:34.638140: I external/local_xla/xla/stream_executor/cuda/cuda_executor.cc:901] successful NUMA node read from SysFS had negative value (-1), but there must be at least one NUMA node, so returning NUMA node zero. See more at https://github.com/torvalds/linux/blob/v6.0/Documentation/ABI/testing/sysfs-bus-pci#L344-L355\n",
      "2024-01-17 19:38:34.677146: I external/local_xla/xla/stream_executor/cuda/cuda_executor.cc:901] successful NUMA node read from SysFS had negative value (-1), but there must be at least one NUMA node, so returning NUMA node zero. See more at https://github.com/torvalds/linux/blob/v6.0/Documentation/ABI/testing/sysfs-bus-pci#L344-L355\n",
      "2024-01-17 19:38:34.677879: I external/local_xla/xla/stream_executor/cuda/cuda_executor.cc:901] successful NUMA node read from SysFS had negative value (-1), but there must be at least one NUMA node, so returning NUMA node zero. See more at https://github.com/torvalds/linux/blob/v6.0/Documentation/ABI/testing/sysfs-bus-pci#L344-L355\n",
      "2024-01-17 19:38:34.678135: I external/local_xla/xla/stream_executor/cuda/cuda_executor.cc:901] successful NUMA node read from SysFS had negative value (-1), but there must be at least one NUMA node, so returning NUMA node zero. See more at https://github.com/torvalds/linux/blob/v6.0/Documentation/ABI/testing/sysfs-bus-pci#L344-L355\n",
      "2024-01-17 19:38:34.678274: I external/local_xla/xla/stream_executor/cuda/cuda_executor.cc:901] successful NUMA node read from SysFS had negative value (-1), but there must be at least one NUMA node, so returning NUMA node zero. See more at https://github.com/torvalds/linux/blob/v6.0/Documentation/ABI/testing/sysfs-bus-pci#L344-L355\n",
      "2024-01-17 19:38:34.736727: I external/local_xla/xla/stream_executor/cuda/cuda_executor.cc:901] successful NUMA node read from SysFS had negative value (-1), but there must be at least one NUMA node, so returning NUMA node zero. See more at https://github.com/torvalds/linux/blob/v6.0/Documentation/ABI/testing/sysfs-bus-pci#L344-L355\n",
      "2024-01-17 19:38:34.736877: I external/local_xla/xla/stream_executor/cuda/cuda_executor.cc:901] successful NUMA node read from SysFS had negative value (-1), but there must be at least one NUMA node, so returning NUMA node zero. See more at https://github.com/torvalds/linux/blob/v6.0/Documentation/ABI/testing/sysfs-bus-pci#L344-L355\n",
      "2024-01-17 19:38:34.737001: I external/local_xla/xla/stream_executor/cuda/cuda_executor.cc:901] successful NUMA node read from SysFS had negative value (-1), but there must be at least one NUMA node, so returning NUMA node zero. See more at https://github.com/torvalds/linux/blob/v6.0/Documentation/ABI/testing/sysfs-bus-pci#L344-L355\n",
      "2024-01-17 19:38:34.737088: I tensorflow/core/common_runtime/gpu/gpu_device.cc:1929] Created device /job:localhost/replica:0/task:0/device:GPU:0 with 5143 MB memory:  -> device: 0, name: NVIDIA GeForce GTX 1060 6GB, pci bus id: 0000:01:00.0, compute capability: 6.1\n"
     ]
    }
   ],
   "source": [
    "net1 = MyNet(2)\n",
    "input_sidelength = 40\n",
    "net1.build(input_shape=(BATCH, input_sidelength, input_sidelength, 4))\n",
    "net1.call(Input(shape=(input_sidelength, input_sidelength, 4)))\n",
    "net1.load_weights('model/FlappyBird.h5', by_name=True)\n",
    "net1.summary()"
   ]
  },
  {
   "cell_type": "code",
   "execution_count": null,
   "metadata": {},
   "outputs": [],
   "source": [
    "net2 = MyNet2(3)\n",
    "input_sidelength = 80\n",
    "net2.build(input_shape=(BATCH, input_sidelength, input_sidelength, 4))\n",
    "net2.call(Input(shape=(input_sidelength, input_sidelength, 4)))\n",
    "net2.load_weights('model/ControlGroup', by_name=True)\n",
    "net2.summary()"
   ]
  },
  {
   "cell_type": "code",
   "execution_count": null,
   "metadata": {},
   "outputs": [],
   "source": []
  }
 ],
 "metadata": {
  "kernelspec": {
   "display_name": "flappyBird",
   "language": "python",
   "name": "python3"
  },
  "language_info": {
   "codemirror_mode": {
    "name": "ipython",
    "version": 3
   },
   "file_extension": ".py",
   "mimetype": "text/x-python",
   "name": "python",
   "nbconvert_exporter": "python",
   "pygments_lexer": "ipython3",
   "version": "3.10.13"
  }
 },
 "nbformat": 4,
 "nbformat_minor": 2
}
